{
 "cells": [
  {
   "cell_type": "code",
   "execution_count": 1,
   "id": "895c00bd",
   "metadata": {},
   "outputs": [
    {
     "name": "stdout",
     "output_type": "stream",
     "text": [
      "Requirement already satisfied: Genderize in /Users/sajinashrestha/opt/anaconda3/lib/python3.9/site-packages (0.3.1)\r\n",
      "Requirement already satisfied: requests>=1.0.0 in /Users/sajinashrestha/opt/anaconda3/lib/python3.9/site-packages (from Genderize) (2.28.1)\r\n",
      "Requirement already satisfied: charset-normalizer<3,>=2 in /Users/sajinashrestha/opt/anaconda3/lib/python3.9/site-packages (from requests>=1.0.0->Genderize) (2.0.4)\r\n",
      "Requirement already satisfied: idna<4,>=2.5 in /Users/sajinashrestha/opt/anaconda3/lib/python3.9/site-packages (from requests>=1.0.0->Genderize) (3.3)\r\n",
      "Requirement already satisfied: urllib3<1.27,>=1.21.1 in /Users/sajinashrestha/opt/anaconda3/lib/python3.9/site-packages (from requests>=1.0.0->Genderize) (1.26.11)\r\n",
      "Requirement already satisfied: certifi>=2017.4.17 in /Users/sajinashrestha/opt/anaconda3/lib/python3.9/site-packages (from requests>=1.0.0->Genderize) (2022.9.24)\r\n"
     ]
    }
   ],
   "source": [
    "!pip install Genderize"
   ]
  },
  {
   "cell_type": "code",
   "execution_count": 2,
   "id": "496bb981",
   "metadata": {},
   "outputs": [
    {
     "name": "stdout",
     "output_type": "stream",
     "text": [
      "Requirement already satisfied: icecream in /Users/sajinashrestha/opt/anaconda3/lib/python3.9/site-packages (2.1.3)\r\n",
      "Requirement already satisfied: colorama>=0.3.9 in /Users/sajinashrestha/opt/anaconda3/lib/python3.9/site-packages (from icecream) (0.4.5)\r\n",
      "Requirement already satisfied: executing>=0.3.1 in /Users/sajinashrestha/opt/anaconda3/lib/python3.9/site-packages (from icecream) (2.0.0)\r\n",
      "Requirement already satisfied: pygments>=2.2.0 in /Users/sajinashrestha/opt/anaconda3/lib/python3.9/site-packages (from icecream) (2.11.2)\r\n",
      "Requirement already satisfied: asttokens>=2.0.1 in /Users/sajinashrestha/opt/anaconda3/lib/python3.9/site-packages (from icecream) (2.4.0)\r\n",
      "Requirement already satisfied: six>=1.12.0 in /Users/sajinashrestha/opt/anaconda3/lib/python3.9/site-packages (from asttokens>=2.0.1->icecream) (1.16.0)\r\n"
     ]
    }
   ],
   "source": [
    "!pip install icecream"
   ]
  },
  {
   "cell_type": "code",
   "execution_count": 27,
   "id": "02e3b30e",
   "metadata": {},
   "outputs": [],
   "source": [
    "## import necessary libraries\n",
    "import pandas as pd\n",
    "from icecream import ic \n",
    "import requests\n",
    "from genderize import Genderize"
   ]
  },
  {
   "cell_type": "code",
   "execution_count": 4,
   "id": "c7b911e5",
   "metadata": {
    "scrolled": true
   },
   "outputs": [
    {
     "data": {
      "text/html": [
       "<div>\n",
       "<style scoped>\n",
       "    .dataframe tbody tr th:only-of-type {\n",
       "        vertical-align: middle;\n",
       "    }\n",
       "\n",
       "    .dataframe tbody tr th {\n",
       "        vertical-align: top;\n",
       "    }\n",
       "\n",
       "    .dataframe thead th {\n",
       "        text-align: right;\n",
       "    }\n",
       "</style>\n",
       "<table border=\"1\" class=\"dataframe\">\n",
       "  <thead>\n",
       "    <tr style=\"text-align: right;\">\n",
       "      <th></th>\n",
       "      <th>book</th>\n",
       "      <th>mangaka</th>\n",
       "      <th>author_firstname</th>\n",
       "      <th>company</th>\n",
       "      <th>medium</th>\n",
       "      <th>month</th>\n",
       "      <th>gender</th>\n",
       "      <th>gender_prob</th>\n",
       "    </tr>\n",
       "  </thead>\n",
       "  <tbody>\n",
       "    <tr>\n",
       "      <th>0</th>\n",
       "      <td>7thGARDEN Vol. 7</td>\n",
       "      <td>Mitsu Izumi</td>\n",
       "      <td>Mitsu</td>\n",
       "      <td>Viz Media</td>\n",
       "      <td>Manga</td>\n",
       "      <td>january</td>\n",
       "      <td>female</td>\n",
       "      <td>0.75</td>\n",
       "    </tr>\n",
       "    <tr>\n",
       "      <th>1</th>\n",
       "      <td>Ace of the Diamond Vol. 7 [Kindle &amp; comiXology]</td>\n",
       "      <td>Yuji Terajima</td>\n",
       "      <td>Yuji</td>\n",
       "      <td>Kodansha</td>\n",
       "      <td>Digital Edition</td>\n",
       "      <td>january</td>\n",
       "      <td>male</td>\n",
       "      <td>0.99</td>\n",
       "    </tr>\n",
       "    <tr>\n",
       "      <th>2</th>\n",
       "      <td>Anonymous Noise Vol. 6</td>\n",
       "      <td>Ryoko Fukuyama</td>\n",
       "      <td>Ryoko</td>\n",
       "      <td>Viz Media</td>\n",
       "      <td>Manga</td>\n",
       "      <td>january</td>\n",
       "      <td>female</td>\n",
       "      <td>0.99</td>\n",
       "    </tr>\n",
       "    <tr>\n",
       "      <th>3</th>\n",
       "      <td>Ayanashi Vol. 2 [Kindle &amp; comiXology]</td>\n",
       "      <td>Yukihiro Kajimoto</td>\n",
       "      <td>Yukihiro</td>\n",
       "      <td>Kodansha</td>\n",
       "      <td>Digital Edition</td>\n",
       "      <td>january</td>\n",
       "      <td>male</td>\n",
       "      <td>1.00</td>\n",
       "    </tr>\n",
       "    <tr>\n",
       "      <th>4</th>\n",
       "      <td>Blue Exorcist Vol. 18</td>\n",
       "      <td>Kazue Kato</td>\n",
       "      <td>Kazue</td>\n",
       "      <td>Viz Media</td>\n",
       "      <td>Manga</td>\n",
       "      <td>january</td>\n",
       "      <td>female</td>\n",
       "      <td>0.99</td>\n",
       "    </tr>\n",
       "    <tr>\n",
       "      <th>...</th>\n",
       "      <td>...</td>\n",
       "      <td>...</td>\n",
       "      <td>...</td>\n",
       "      <td>...</td>\n",
       "      <td>...</td>\n",
       "      <td>...</td>\n",
       "      <td>...</td>\n",
       "      <td>...</td>\n",
       "    </tr>\n",
       "    <tr>\n",
       "      <th>1379</th>\n",
       "      <td>A Certain Scientific Accelerator Vol. 8</td>\n",
       "      <td>Kazuma Kamachi (Author), Arata Yamaji (Illustr...</td>\n",
       "      <td>Kazuma</td>\n",
       "      <td>Seven Seas Entertainment</td>\n",
       "      <td>Manga</td>\n",
       "      <td>december</td>\n",
       "      <td>male</td>\n",
       "      <td>1.00</td>\n",
       "    </tr>\n",
       "    <tr>\n",
       "      <th>1380</th>\n",
       "      <td>Gantz Omnibus Vol. 2</td>\n",
       "      <td>Hiroya Oku (Author), Richard Pini (Illustrator)</td>\n",
       "      <td>Hiroya</td>\n",
       "      <td>Dark Horse</td>\n",
       "      <td>Manga</td>\n",
       "      <td>december</td>\n",
       "      <td>male</td>\n",
       "      <td>0.99</td>\n",
       "    </tr>\n",
       "    <tr>\n",
       "      <th>1381</th>\n",
       "      <td>High-Rise Invasion Vol. 5-6</td>\n",
       "      <td>Tsuina Miura (Author), Takahiro Oba (Illustrator)</td>\n",
       "      <td>Tsuina</td>\n",
       "      <td>Seven Seas Entertainment</td>\n",
       "      <td>Manga</td>\n",
       "      <td>december</td>\n",
       "      <td>NaN</td>\n",
       "      <td>0.00</td>\n",
       "    </tr>\n",
       "    <tr>\n",
       "      <th>1382</th>\n",
       "      <td>Hungry for You: Endo Yasuko Stalks the Night V...</td>\n",
       "      <td>Flowerchild (Author)</td>\n",
       "      <td>Flowerchild</td>\n",
       "      <td>Seven Seas Entertainment</td>\n",
       "      <td>Manga</td>\n",
       "      <td>december</td>\n",
       "      <td>NaN</td>\n",
       "      <td>0.00</td>\n",
       "    </tr>\n",
       "    <tr>\n",
       "      <th>1383</th>\n",
       "      <td>Magika Swordsman and Summoner Vol. 10</td>\n",
       "      <td>Mitsuki Mihara (Author), MonRin (Illustrator)</td>\n",
       "      <td>Mitsuki</td>\n",
       "      <td>Seven Seas Entertainment</td>\n",
       "      <td>Manga</td>\n",
       "      <td>december</td>\n",
       "      <td>female</td>\n",
       "      <td>0.90</td>\n",
       "    </tr>\n",
       "  </tbody>\n",
       "</table>\n",
       "<p>1384 rows × 8 columns</p>\n",
       "</div>"
      ],
      "text/plain": [
       "                                                   book  \\\n",
       "0                                      7thGARDEN Vol. 7   \n",
       "1       Ace of the Diamond Vol. 7 [Kindle & comiXology]   \n",
       "2                                Anonymous Noise Vol. 6   \n",
       "3                 Ayanashi Vol. 2 [Kindle & comiXology]   \n",
       "4                                 Blue Exorcist Vol. 18   \n",
       "...                                                 ...   \n",
       "1379            A Certain Scientific Accelerator Vol. 8   \n",
       "1380                               Gantz Omnibus Vol. 2   \n",
       "1381                        High-Rise Invasion Vol. 5-6   \n",
       "1382  Hungry for You: Endo Yasuko Stalks the Night V...   \n",
       "1383              Magika Swordsman and Summoner Vol. 10   \n",
       "\n",
       "                                                mangaka author_firstname  \\\n",
       "0                                           Mitsu Izumi            Mitsu   \n",
       "1                                         Yuji Terajima             Yuji   \n",
       "2                                        Ryoko Fukuyama            Ryoko   \n",
       "3                                     Yukihiro Kajimoto         Yukihiro   \n",
       "4                                            Kazue Kato            Kazue   \n",
       "...                                                 ...              ...   \n",
       "1379  Kazuma Kamachi (Author), Arata Yamaji (Illustr...           Kazuma   \n",
       "1380    Hiroya Oku (Author), Richard Pini (Illustrator)           Hiroya   \n",
       "1381  Tsuina Miura (Author), Takahiro Oba (Illustrator)           Tsuina   \n",
       "1382                               Flowerchild (Author)      Flowerchild   \n",
       "1383      Mitsuki Mihara (Author), MonRin (Illustrator)          Mitsuki   \n",
       "\n",
       "                       company           medium     month  gender  gender_prob  \n",
       "0                    Viz Media            Manga   january  female         0.75  \n",
       "1                     Kodansha  Digital Edition   january    male         0.99  \n",
       "2                    Viz Media            Manga   january  female         0.99  \n",
       "3                     Kodansha  Digital Edition   january    male         1.00  \n",
       "4                    Viz Media            Manga   january  female         0.99  \n",
       "...                        ...              ...       ...     ...          ...  \n",
       "1379  Seven Seas Entertainment            Manga  december    male         1.00  \n",
       "1380                Dark Horse            Manga  december    male         0.99  \n",
       "1381  Seven Seas Entertainment            Manga  december     NaN         0.00  \n",
       "1382  Seven Seas Entertainment            Manga  december     NaN         0.00  \n",
       "1383  Seven Seas Entertainment            Manga  december  female         0.90  \n",
       "\n",
       "[1384 rows x 8 columns]"
      ]
     },
     "execution_count": 4,
     "metadata": {},
     "output_type": "execute_result"
    }
   ],
   "source": [
    "df = pd.read_csv(\"2018_midsave.csv\")\n",
    "df"
   ]
  },
  {
   "cell_type": "code",
   "execution_count": 22,
   "id": "1fa21914",
   "metadata": {},
   "outputs": [],
   "source": [
    "count = lambda name, api_key:\\\n",
    "requests.get(f'https://api.genderize.io?name={name}&apikey={api_key}').json().get('count')"
   ]
  },
  {
   "cell_type": "code",
   "execution_count": 44,
   "id": "bd1c421f",
   "metadata": {},
   "outputs": [],
   "source": [
    "def gender_data(name, api_key):\n",
    "    '''\n",
    "    Takes a string name and returns gender data using the Genderize API.\n",
    "    '''\n",
    "    genderize = Genderize(api_key=api_key)\n",
    "    gender_data = genderize.get([name])\n",
    "    return gender_data"
   ]
  },
  {
   "cell_type": "code",
   "execution_count": 45,
   "id": "d7476b39",
   "metadata": {},
   "outputs": [
    {
     "data": {
      "text/plain": [
       "[{'count': 18, 'name': 'sajina', 'gender': 'female', 'probability': 0.94}]"
      ]
     },
     "execution_count": 45,
     "metadata": {},
     "output_type": "execute_result"
    }
   ],
   "source": [
    "gender_data(\"sajina\", \"enter_api_key\")"
   ]
  },
  {
   "cell_type": "code",
   "execution_count": 55,
   "id": "f93e2f27",
   "metadata": {},
   "outputs": [],
   "source": [
    "def gender_count(name, api_key):\n",
    "    '''\n",
    "    takes a string name and the min_prob, returns gender probability based on using gender_data function\n",
    "    '''\n",
    "    count = gender_data(name, api_key)[0].get(\"count\")\n",
    "    return count"
   ]
  },
  {
   "cell_type": "code",
   "execution_count": 56,
   "id": "3adb89f3",
   "metadata": {},
   "outputs": [
    {
     "data": {
      "text/plain": [
       "18"
      ]
     },
     "execution_count": 56,
     "metadata": {},
     "output_type": "execute_result"
    }
   ],
   "source": [
    "gender_count(\"sajina\", \"enter_api_key\")"
   ]
  },
  {
   "cell_type": "code",
   "execution_count": 61,
   "id": "8e96a606",
   "metadata": {},
   "outputs": [
    {
     "ename": "GenderizeException",
     "evalue": "('Invalid API key', 401, {'Server': 'nginx/1.16.1', 'Date': 'Sun, 26 Nov 2023 18:39:03 GMT', 'Content-Type': 'application/json', 'Content-Length': '27', 'Connection': 'keep-alive', 'access-control-allow-credentials': 'true', 'access-control-allow-origin': '*', 'access-control-expose-headers': 'x-rate-limit-limit,x-rate-limit-remaining,x-rate-limit-reset', 'cache-control': 'max-age=0, private, must-revalidate', 'x-request-id': 'F5tAQ7TzwFwJ_GQEmBlC'})",
     "output_type": "error",
     "traceback": [
      "\u001b[0;31m---------------------------------------------------------------------------\u001b[0m",
      "\u001b[0;31mGenderizeException\u001b[0m                        Traceback (most recent call last)",
      "\u001b[0;32m/var/folders/s2/yhgvwy5j2nj1j2xfcsx5gwp00000gn/T/ipykernel_6419/2300608819.py\u001b[0m in \u001b[0;36m<module>\u001b[0;34m\u001b[0m\n\u001b[0;32m----> 1\u001b[0;31m \u001b[0mdf\u001b[0m\u001b[0;34m[\u001b[0m\u001b[0;34m\"count\"\u001b[0m\u001b[0;34m]\u001b[0m \u001b[0;34m=\u001b[0m \u001b[0mdf\u001b[0m\u001b[0;34m[\u001b[0m\u001b[0;34m\"author_firstname\"\u001b[0m\u001b[0;34m]\u001b[0m\u001b[0;34m.\u001b[0m\u001b[0mapply\u001b[0m\u001b[0;34m(\u001b[0m\u001b[0;32mlambda\u001b[0m \u001b[0mx\u001b[0m\u001b[0;34m:\u001b[0m \u001b[0mgender_count\u001b[0m\u001b[0;34m(\u001b[0m\u001b[0mx\u001b[0m\u001b[0;34m,\u001b[0m \u001b[0;34m\"enter_api_key\"\u001b[0m\u001b[0;34m)\u001b[0m\u001b[0;34m)\u001b[0m\u001b[0;34m\u001b[0m\u001b[0;34m\u001b[0m\u001b[0m\n\u001b[0m",
      "\u001b[0;32m~/opt/anaconda3/lib/python3.9/site-packages/pandas/core/series.py\u001b[0m in \u001b[0;36mapply\u001b[0;34m(self, func, convert_dtype, args, **kwargs)\u001b[0m\n\u001b[1;32m   4431\u001b[0m         \u001b[0mdtype\u001b[0m\u001b[0;34m:\u001b[0m \u001b[0mfloat64\u001b[0m\u001b[0;34m\u001b[0m\u001b[0;34m\u001b[0m\u001b[0m\n\u001b[1;32m   4432\u001b[0m         \"\"\"\n\u001b[0;32m-> 4433\u001b[0;31m         \u001b[0;32mreturn\u001b[0m \u001b[0mSeriesApply\u001b[0m\u001b[0;34m(\u001b[0m\u001b[0mself\u001b[0m\u001b[0;34m,\u001b[0m \u001b[0mfunc\u001b[0m\u001b[0;34m,\u001b[0m \u001b[0mconvert_dtype\u001b[0m\u001b[0;34m,\u001b[0m \u001b[0margs\u001b[0m\u001b[0;34m,\u001b[0m \u001b[0mkwargs\u001b[0m\u001b[0;34m)\u001b[0m\u001b[0;34m.\u001b[0m\u001b[0mapply\u001b[0m\u001b[0;34m(\u001b[0m\u001b[0;34m)\u001b[0m\u001b[0;34m\u001b[0m\u001b[0;34m\u001b[0m\u001b[0m\n\u001b[0m\u001b[1;32m   4434\u001b[0m \u001b[0;34m\u001b[0m\u001b[0m\n\u001b[1;32m   4435\u001b[0m     def _reduce(\n",
      "\u001b[0;32m~/opt/anaconda3/lib/python3.9/site-packages/pandas/core/apply.py\u001b[0m in \u001b[0;36mapply\u001b[0;34m(self)\u001b[0m\n\u001b[1;32m   1086\u001b[0m             \u001b[0;32mreturn\u001b[0m \u001b[0mself\u001b[0m\u001b[0;34m.\u001b[0m\u001b[0mapply_str\u001b[0m\u001b[0;34m(\u001b[0m\u001b[0;34m)\u001b[0m\u001b[0;34m\u001b[0m\u001b[0;34m\u001b[0m\u001b[0m\n\u001b[1;32m   1087\u001b[0m \u001b[0;34m\u001b[0m\u001b[0m\n\u001b[0;32m-> 1088\u001b[0;31m         \u001b[0;32mreturn\u001b[0m \u001b[0mself\u001b[0m\u001b[0;34m.\u001b[0m\u001b[0mapply_standard\u001b[0m\u001b[0;34m(\u001b[0m\u001b[0;34m)\u001b[0m\u001b[0;34m\u001b[0m\u001b[0;34m\u001b[0m\u001b[0m\n\u001b[0m\u001b[1;32m   1089\u001b[0m \u001b[0;34m\u001b[0m\u001b[0m\n\u001b[1;32m   1090\u001b[0m     \u001b[0;32mdef\u001b[0m \u001b[0magg\u001b[0m\u001b[0;34m(\u001b[0m\u001b[0mself\u001b[0m\u001b[0;34m)\u001b[0m\u001b[0;34m:\u001b[0m\u001b[0;34m\u001b[0m\u001b[0;34m\u001b[0m\u001b[0m\n",
      "\u001b[0;32m~/opt/anaconda3/lib/python3.9/site-packages/pandas/core/apply.py\u001b[0m in \u001b[0;36mapply_standard\u001b[0;34m(self)\u001b[0m\n\u001b[1;32m   1141\u001b[0m                 \u001b[0;31m# List[Union[Callable[..., Any], str]]]]]\"; expected\u001b[0m\u001b[0;34m\u001b[0m\u001b[0;34m\u001b[0m\u001b[0m\n\u001b[1;32m   1142\u001b[0m                 \u001b[0;31m# \"Callable[[Any], Any]\"\u001b[0m\u001b[0;34m\u001b[0m\u001b[0;34m\u001b[0m\u001b[0m\n\u001b[0;32m-> 1143\u001b[0;31m                 mapped = lib.map_infer(\n\u001b[0m\u001b[1;32m   1144\u001b[0m                     \u001b[0mvalues\u001b[0m\u001b[0;34m,\u001b[0m\u001b[0;34m\u001b[0m\u001b[0;34m\u001b[0m\u001b[0m\n\u001b[1;32m   1145\u001b[0m                     \u001b[0mf\u001b[0m\u001b[0;34m,\u001b[0m  \u001b[0;31m# type: ignore[arg-type]\u001b[0m\u001b[0;34m\u001b[0m\u001b[0;34m\u001b[0m\u001b[0m\n",
      "\u001b[0;32m~/opt/anaconda3/lib/python3.9/site-packages/pandas/_libs/lib.pyx\u001b[0m in \u001b[0;36mpandas._libs.lib.map_infer\u001b[0;34m()\u001b[0m\n",
      "\u001b[0;32m/var/folders/s2/yhgvwy5j2nj1j2xfcsx5gwp00000gn/T/ipykernel_6419/2300608819.py\u001b[0m in \u001b[0;36m<lambda>\u001b[0;34m(x)\u001b[0m\n\u001b[0;32m----> 1\u001b[0;31m \u001b[0mdf\u001b[0m\u001b[0;34m[\u001b[0m\u001b[0;34m\"count\"\u001b[0m\u001b[0;34m]\u001b[0m \u001b[0;34m=\u001b[0m \u001b[0mdf\u001b[0m\u001b[0;34m[\u001b[0m\u001b[0;34m\"author_firstname\"\u001b[0m\u001b[0;34m]\u001b[0m\u001b[0;34m.\u001b[0m\u001b[0mapply\u001b[0m\u001b[0;34m(\u001b[0m\u001b[0;32mlambda\u001b[0m \u001b[0mx\u001b[0m\u001b[0;34m:\u001b[0m \u001b[0mgender_count\u001b[0m\u001b[0;34m(\u001b[0m\u001b[0mx\u001b[0m\u001b[0;34m,\u001b[0m \u001b[0;34m\"enter_api_key\"\u001b[0m\u001b[0;34m)\u001b[0m\u001b[0;34m)\u001b[0m\u001b[0;34m\u001b[0m\u001b[0;34m\u001b[0m\u001b[0m\n\u001b[0m",
      "\u001b[0;32m/var/folders/s2/yhgvwy5j2nj1j2xfcsx5gwp00000gn/T/ipykernel_6419/4288943944.py\u001b[0m in \u001b[0;36mgender_count\u001b[0;34m(name, api_key)\u001b[0m\n\u001b[1;32m      3\u001b[0m     \u001b[0mtakes\u001b[0m \u001b[0ma\u001b[0m \u001b[0mstring\u001b[0m \u001b[0mname\u001b[0m \u001b[0;32mand\u001b[0m \u001b[0mthe\u001b[0m \u001b[0mmin_prob\u001b[0m\u001b[0;34m,\u001b[0m \u001b[0mreturns\u001b[0m \u001b[0mgender\u001b[0m \u001b[0mprobability\u001b[0m \u001b[0mbased\u001b[0m \u001b[0mon\u001b[0m \u001b[0musing\u001b[0m \u001b[0mgender_data\u001b[0m \u001b[0mfunction\u001b[0m\u001b[0;34m\u001b[0m\u001b[0;34m\u001b[0m\u001b[0m\n\u001b[1;32m      4\u001b[0m     '''\n\u001b[0;32m----> 5\u001b[0;31m     \u001b[0mcount\u001b[0m \u001b[0;34m=\u001b[0m \u001b[0mgender_data\u001b[0m\u001b[0;34m(\u001b[0m\u001b[0mname\u001b[0m\u001b[0;34m,\u001b[0m \u001b[0mapi_key\u001b[0m\u001b[0;34m)\u001b[0m\u001b[0;34m[\u001b[0m\u001b[0;36m0\u001b[0m\u001b[0;34m]\u001b[0m\u001b[0;34m.\u001b[0m\u001b[0mget\u001b[0m\u001b[0;34m(\u001b[0m\u001b[0;34m\"count\"\u001b[0m\u001b[0;34m)\u001b[0m\u001b[0;34m\u001b[0m\u001b[0;34m\u001b[0m\u001b[0m\n\u001b[0m\u001b[1;32m      6\u001b[0m     \u001b[0;32mreturn\u001b[0m \u001b[0mcount\u001b[0m\u001b[0;34m\u001b[0m\u001b[0;34m\u001b[0m\u001b[0m\n",
      "\u001b[0;32m/var/folders/s2/yhgvwy5j2nj1j2xfcsx5gwp00000gn/T/ipykernel_6419/3590643375.py\u001b[0m in \u001b[0;36mgender_data\u001b[0;34m(name, api_key)\u001b[0m\n\u001b[1;32m      4\u001b[0m     '''\n\u001b[1;32m      5\u001b[0m     \u001b[0mgenderize\u001b[0m \u001b[0;34m=\u001b[0m \u001b[0mGenderize\u001b[0m\u001b[0;34m(\u001b[0m\u001b[0mapi_key\u001b[0m\u001b[0;34m=\u001b[0m\u001b[0mapi_key\u001b[0m\u001b[0;34m)\u001b[0m\u001b[0;34m\u001b[0m\u001b[0;34m\u001b[0m\u001b[0m\n\u001b[0;32m----> 6\u001b[0;31m     \u001b[0mgender_data\u001b[0m \u001b[0;34m=\u001b[0m \u001b[0mgenderize\u001b[0m\u001b[0;34m.\u001b[0m\u001b[0mget\u001b[0m\u001b[0;34m(\u001b[0m\u001b[0;34m[\u001b[0m\u001b[0mname\u001b[0m\u001b[0;34m]\u001b[0m\u001b[0;34m)\u001b[0m\u001b[0;34m\u001b[0m\u001b[0;34m\u001b[0m\u001b[0m\n\u001b[0m\u001b[1;32m      7\u001b[0m     \u001b[0;32mreturn\u001b[0m \u001b[0mgender_data\u001b[0m\u001b[0;34m\u001b[0m\u001b[0;34m\u001b[0m\u001b[0m\n",
      "\u001b[0;32m~/opt/anaconda3/lib/python3.9/site-packages/genderize/__init__.py\u001b[0m in \u001b[0;36mget\u001b[0;34m(self, names, country_id, language_id, retheader)\u001b[0m\n\u001b[1;32m     94\u001b[0m         \u001b[0;34m:\u001b[0m\u001b[0mraises\u001b[0m \u001b[0mGenderizeException\u001b[0m\u001b[0;34m:\u001b[0m \u001b[0;32mif\u001b[0m \u001b[0mAPI\u001b[0m \u001b[0mserver\u001b[0m \u001b[0mreturns\u001b[0m \u001b[0mHTTP\u001b[0m \u001b[0merror\u001b[0m \u001b[0mcode\u001b[0m\u001b[0;34m.\u001b[0m\u001b[0;34m\u001b[0m\u001b[0;34m\u001b[0m\u001b[0m\n\u001b[1;32m     95\u001b[0m         \"\"\"\n\u001b[0;32m---> 96\u001b[0;31m         responses = [\n\u001b[0m\u001b[1;32m     97\u001b[0m             \u001b[0mself\u001b[0m\u001b[0;34m.\u001b[0m\u001b[0m_get_chunk\u001b[0m\u001b[0;34m(\u001b[0m\u001b[0mname_chunk\u001b[0m\u001b[0;34m,\u001b[0m \u001b[0mcountry_id\u001b[0m\u001b[0;34m,\u001b[0m \u001b[0mlanguage_id\u001b[0m\u001b[0;34m)\u001b[0m\u001b[0;34m\u001b[0m\u001b[0;34m\u001b[0m\u001b[0m\n\u001b[1;32m     98\u001b[0m             \u001b[0;32mfor\u001b[0m \u001b[0mname_chunk\u001b[0m\u001b[0;34m\u001b[0m\u001b[0;34m\u001b[0m\u001b[0m\n",
      "\u001b[0;32m~/opt/anaconda3/lib/python3.9/site-packages/genderize/__init__.py\u001b[0m in \u001b[0;36m<listcomp>\u001b[0;34m(.0)\u001b[0m\n\u001b[1;32m     95\u001b[0m         \"\"\"\n\u001b[1;32m     96\u001b[0m         responses = [\n\u001b[0;32m---> 97\u001b[0;31m             \u001b[0mself\u001b[0m\u001b[0;34m.\u001b[0m\u001b[0m_get_chunk\u001b[0m\u001b[0;34m(\u001b[0m\u001b[0mname_chunk\u001b[0m\u001b[0;34m,\u001b[0m \u001b[0mcountry_id\u001b[0m\u001b[0;34m,\u001b[0m \u001b[0mlanguage_id\u001b[0m\u001b[0;34m)\u001b[0m\u001b[0;34m\u001b[0m\u001b[0;34m\u001b[0m\u001b[0m\n\u001b[0m\u001b[1;32m     98\u001b[0m             \u001b[0;32mfor\u001b[0m \u001b[0mname_chunk\u001b[0m\u001b[0;34m\u001b[0m\u001b[0;34m\u001b[0m\u001b[0m\n\u001b[1;32m     99\u001b[0m             \u001b[0;32min\u001b[0m \u001b[0m_chunked\u001b[0m\u001b[0;34m(\u001b[0m\u001b[0mnames\u001b[0m\u001b[0;34m,\u001b[0m \u001b[0mGenderize\u001b[0m\u001b[0;34m.\u001b[0m\u001b[0mBATCH_SIZE\u001b[0m\u001b[0;34m)\u001b[0m\u001b[0;34m\u001b[0m\u001b[0;34m\u001b[0m\u001b[0m\n",
      "\u001b[0;32m~/opt/anaconda3/lib/python3.9/site-packages/genderize/__init__.py\u001b[0m in \u001b[0;36m_get_chunk\u001b[0;34m(self, name_chunk, country_id, language_id)\u001b[0m\n\u001b[1;32m    147\u001b[0m             \u001b[0;32mreturn\u001b[0m \u001b[0m_GenderizeResponse\u001b[0m\u001b[0;34m(\u001b[0m\u001b[0mdata\u001b[0m\u001b[0;34m=\u001b[0m\u001b[0mdecoded\u001b[0m\u001b[0;34m,\u001b[0m \u001b[0mheaders\u001b[0m\u001b[0;34m=\u001b[0m\u001b[0mresponse\u001b[0m\u001b[0;34m.\u001b[0m\u001b[0mheaders\u001b[0m\u001b[0;34m)\u001b[0m\u001b[0;34m\u001b[0m\u001b[0;34m\u001b[0m\u001b[0m\n\u001b[1;32m    148\u001b[0m         \u001b[0;32melse\u001b[0m\u001b[0;34m:\u001b[0m\u001b[0;34m\u001b[0m\u001b[0;34m\u001b[0m\u001b[0m\n\u001b[0;32m--> 149\u001b[0;31m             raise GenderizeException(\n\u001b[0m\u001b[1;32m    150\u001b[0m                 \u001b[0mdecoded\u001b[0m\u001b[0;34m[\u001b[0m\u001b[0;34m'error'\u001b[0m\u001b[0;34m]\u001b[0m\u001b[0;34m,\u001b[0m\u001b[0;34m\u001b[0m\u001b[0;34m\u001b[0m\u001b[0m\n\u001b[1;32m    151\u001b[0m                 \u001b[0mresponse\u001b[0m\u001b[0;34m.\u001b[0m\u001b[0mstatus_code\u001b[0m\u001b[0;34m,\u001b[0m\u001b[0;34m\u001b[0m\u001b[0;34m\u001b[0m\u001b[0m\n",
      "\u001b[0;31mGenderizeException\u001b[0m: ('Invalid API key', 401, {'Server': 'nginx/1.16.1', 'Date': 'Sun, 26 Nov 2023 18:39:03 GMT', 'Content-Type': 'application/json', 'Content-Length': '27', 'Connection': 'keep-alive', 'access-control-allow-credentials': 'true', 'access-control-allow-origin': '*', 'access-control-expose-headers': 'x-rate-limit-limit,x-rate-limit-remaining,x-rate-limit-reset', 'cache-control': 'max-age=0, private, must-revalidate', 'x-request-id': 'F5tAQ7TzwFwJ_GQEmBlC'})"
     ]
    }
   ],
   "source": [
    "df[\"count\"] = df[\"author_firstname\"].apply(lambda x: gender_count(x, \"enter_api_key\"))\n"
   ]
  },
  {
   "cell_type": "code",
   "execution_count": 60,
   "id": "00fcb1fd",
   "metadata": {},
   "outputs": [],
   "source": [
    "df.to_csv(\"2018_gender_data.csv\", index = False, encoding = \"UTF-8\")"
   ]
  }
 ],
 "metadata": {
  "kernelspec": {
   "display_name": "Python 3 (ipykernel)",
   "language": "python",
   "name": "python3"
  },
  "language_info": {
   "codemirror_mode": {
    "name": "ipython",
    "version": 3
   },
   "file_extension": ".py",
   "mimetype": "text/x-python",
   "name": "python",
   "nbconvert_exporter": "python",
   "pygments_lexer": "ipython3",
   "version": "3.9.13"
  }
 },
 "nbformat": 4,
 "nbformat_minor": 5
}
